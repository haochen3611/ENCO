{
 "cells": [
  {
   "cell_type": "markdown",
   "id": "18496af0",
   "metadata": {},
   "source": [
    "# Efficient Neural Causal Discovery without Acyclicity Constraints\n",
    "\n",
    "This notebook is intended to give an overview of the functionalities in this repository. We recommend to go through this notebook if you are interested in working with this repository."
   ]
  },
  {
   "cell_type": "markdown",
   "id": "d1eef344",
   "metadata": {},
   "source": [
    "## Preparation\n",
    "\n",
    "This part is only needed when you are running on Google Colab. We clone the repo to have access to the python files. In case you run this notebook locally, this step will be automatically skipped."
   ]
  },
  {
   "cell_type": "code",
   "execution_count": null,
   "id": "467628fa",
   "metadata": {},
   "outputs": [],
   "source": [
    "import os\n",
    "import sys\n",
    "\n",
    "if not os.path.isdir('causal_graphs/'):\n",
    "    print(\"Cloning the repository...\")\n",
    "    !git clone https://github.com/phlippe/ENCO\n",
    "    sys.path.append('ENCO/')"
   ]
  },
  {
   "cell_type": "markdown",
   "id": "9555eddd",
   "metadata": {},
   "source": [
    "For nicer visualizations, we import matplotlib with inline arguments. Additionally, we import PyTorch and Numpy on which the ENCO implementation is based on."
   ]
  },
  {
   "cell_type": "code",
   "execution_count": 1,
   "id": "a3d0eaea",
   "metadata": {},
   "outputs": [],
   "source": [
    "import matplotlib.pyplot as plt\n",
    "%matplotlib inline\n",
    "from matplotlib_inline.backend_inline import set_matplotlib_formats\n",
    "set_matplotlib_formats('svg', 'pdf')\n",
    "\n",
    "import torch\n",
    "import numpy as np"
   ]
  },
  {
   "cell_type": "markdown",
   "id": "438647b0",
   "metadata": {},
   "source": [
    "## Causal Graphs\n",
    "\n",
    "First, we take a look at how we can generate causal graphs and interact with them. All functionalities for this purpose have been summarized in the folder `causal_graphs`, and we import the most important functions below."
   ]
  },
  {
   "cell_type": "code",
   "execution_count": 2,
   "id": "8f10c205",
   "metadata": {},
   "outputs": [],
   "source": [
    "from causal_graphs.graph_definition import CausalDAG  # Base class of causal graphs\n",
    "from causal_graphs.graph_generation import generate_categorical_graph, get_graph_func, generate_continous_graph  # Functions for generating new graphs\n",
    "from causal_graphs.graph_visualization import visualize_graph  # Plotting the graph in matplotlib"
   ]
  },
  {
   "cell_type": "markdown",
   "id": "bd0ce880",
   "metadata": {},
   "source": [
    "Every graph is represented as a `CausalDAG` object that contains a list of variables and an adjacency matrix/edge list to represent the graph structure. The conditional distributions are part of the variable objects. To sample a new data point, we iterate through the variables in the causal order and sample one by one. To demonstrate this, let us first generate an arbitrary graph. This can be done with the `generate_categorical_graph` function, and we can specify the desired graph structure with `get_graph_func`:"
   ]
  },
  {
   "cell_type": "code",
   "execution_count": 3,
   "id": "d0c56e5a",
   "metadata": {},
   "outputs": [],
   "source": [
    "graph = generate_categorical_graph(num_vars=8, \n",
    "                                   min_categs=10,\n",
    "                                   max_categs=10,\n",
    "                                   graph_func=get_graph_func('random'),\n",
    "                                   edge_prob=0.4,\n",
    "                                   seed=42)"
   ]
  },
  {
   "cell_type": "code",
   "execution_count": 4,
   "id": "a8b8fcbd",
   "metadata": {},
   "outputs": [],
   "source": [
    "graph = generate_continous_graph(num_vars=8,\n",
    "                                 is_add_noise=False,\n",
    "                                 nn_size='small', \n",
    "                                 base_dist='normal',\n",
    "                                 graph_func=get_graph_func('random'), \n",
    "                                 edge_prob=0.4, seed=42)"
   ]
  },
  {
   "cell_type": "markdown",
   "id": "31ca222f",
   "metadata": {},
   "source": [
    "This function call creates a new graph with 8 variables, each having a distribution over 10 categories, and the graph structure is generated randomly by sampling an edge between any pair of variables with a probability of 0.4. The seed ensures that the graph generation is reproducible. To generate other graph structures, simply replace the string `'random'` by e.g. `'chain'` or `'jungle'`.\n",
    "\n",
    "To get an intuition of what the graph actually looks like, we can print it:"
   ]
  },
  {
   "cell_type": "code",
   "execution_count": 5,
   "id": "9f87ff3b",
   "metadata": {},
   "outputs": [
    {
     "name": "stdout",
     "output_type": "stream",
     "text": [
      "CausalDAG with 8 variables [D,E,G,H,C,F,A,B] and 10 edges:\n",
      "D => E,G,B\n",
      "E => H,C\n",
      "G => C\n",
      "H => F,A\n",
      "C => A\n",
      "A => B\n",
      "\n"
     ]
    }
   ],
   "source": [
    "print(graph)"
   ]
  },
  {
   "cell_type": "markdown",
   "id": "09603017",
   "metadata": {},
   "source": [
    "The variables are named alphabetically, and we have 10 edges. The edges are listed below the first line, e.g., we have an edge from D to E, and an edge from D to G. Alternatively, we can also plot the graph with matplotlib: "
   ]
  },
  {
   "cell_type": "code",
   "execution_count": 6,
   "id": "33cd4361",
   "metadata": {},
   "outputs": [
    {
     "data": {
      "application/pdf": "[encoded data removed]",
      "image/svg+xml": [
       "<?xml version=\"1.0\" encoding=\"utf-8\" standalone=\"no\"?>\n",
       "<!DOCTYPE svg PUBLIC \"-//W3C//DTD SVG 1.1//EN\"\n",
       "  \"http://www.w3.org/Graphics/SVG/1.1/DTD/svg11.dtd\">\n",
       "<svg xmlns:xlink=\"http://www.w3.org/1999/xlink\" width=\"302.4pt\" height=\"302.4pt\" viewBox=\"0 0 302.4 302.4\" xmlns=\"http://www.w3.org/2000/svg\" version=\"1.1\">\n",
       " <metadata>\n",
       "  <rdf:RDF xmlns:dc=\"http://purl.org/dc/elements/1.1/\" xmlns:cc=\"http://creativecommons.org/ns#\" xmlns:rdf=\"http://www.w3.org/1999/02/22-rdf-syntax-ns#\">\n",
       "   <cc:Work>\n",
       "    <dc:type rdf:resource=\"http://purl.org/dc/dcmitype/StillImage\"/>\n",
       "    <dc:date>2024-04-13T13:40:51.882448</dc:date>\n",
       "    <dc:format>image/svg+xml</dc:format>\n",
       "    <dc:creator>\n",
       "     <cc:Agent>\n",
       "      <dc:title>Matplotlib v3.8.4, https://matplotlib.org/</dc:title>\n",
       "     </cc:Agent>\n",
       "    </dc:creator>\n",
       "   </cc:Work>\n",
       "  </rdf:RDF>\n",
       " </metadata>\n",
       " <defs>\n",
       "  <style type=\"text/css\">*{stroke-linejoin: round; stroke-linecap: butt}</style>\n",
       " </defs>\n",
       " <g id=\"figure_1\">\n",
       "  <g id=\"patch_1\">\n",
       "   <path d=\"M 0 302.4 \n",
       "L 302.4 302.4 \n",
       "L 302.4 0 \n",
       "L 0 0 \n",
       "z\n",
       "\" style=\"fill: #ffffff\"/>\n",
       "  </g>\n",
       "  <g id=\"axes_1\">\n",
       "   <g id=\"patch_2\">\n",
       "    <path d=\"M 193.712385 36.173145 \n",
       "Q 118.74266 61.943987 44.830245 87.35138 \n",
       "\" clip-path=\"url(#p37e9f7c8b9)\" style=\"fill: none; stroke: #000000; stroke-linecap: round\"/>\n",
       "    <path d=\"M 51.922895 88.297067 \n",
       "L 44.830245 87.35138 \n",
       "L 49.842384 82.244672 \n",
       "z\n",
       "\" clip-path=\"url(#p37e9f7c8b9)\" style=\"stroke: #000000; stroke-linecap: round\"/>\n",
       "   </g>\n",
       "   <g id=\"patch_3\">\n",
       "    <path d=\"M 205.294666 44.441945 \n",
       "Q 205.294666 61.944413 205.294666 78.328846 \n",
       "\" clip-path=\"url(#p37e9f7c8b9)\" style=\"fill: none; stroke: #000000; stroke-linecap: round\"/>\n",
       "    <path d=\"M 208.494666 71.928846 \n",
       "L 205.294666 78.328846 \n",
       "L 202.094666 71.928846 \n",
       "z\n",
       "\" clip-path=\"url(#p37e9f7c8b9)\" style=\"stroke: #000000; stroke-linecap: round\"/>\n",
       "   </g>\n",
       "   <g id=\"patch_4\">\n",
       "    <path d=\"M 208.516772 44.006124 \n",
       "Q 237.751419 151.199831 266.691892 257.314899 \n",
       "\" clip-path=\"url(#p37e9f7c8b9)\" style=\"fill: none; stroke: #000000; stroke-linecap: round\"/>\n",
       "    <path d=\"M 268.095185 250.298435 \n",
       "L 266.691892 257.314899 \n",
       "L 261.920696 251.982386 \n",
       "z\n",
       "\" clip-path=\"url(#p37e9f7c8b9)\" style=\"stroke: #000000; stroke-linecap: round\"/>\n",
       "   </g>\n",
       "   <g id=\"patch_5\">\n",
       "    <path d=\"M 32.191736 103.946078 \n",
       "Q 32.191736 121.448545 32.191736 137.832979 \n",
       "\" clip-path=\"url(#p37e9f7c8b9)\" style=\"fill: none; stroke: #000000; stroke-linecap: round\"/>\n",
       "    <path d=\"M 35.391736 131.432979 \n",
       "L 32.191736 137.832979 \n",
       "L 28.991736 131.432979 \n",
       "z\n",
       "\" clip-path=\"url(#p37e9f7c8b9)\" style=\"stroke: #000000; stroke-linecap: round\"/>\n",
       "   </g>\n",
       "   <g id=\"patch_6\">\n",
       "    <path d=\"M 43.774016 95.677277 \n",
       "Q 118.743741 121.44812 192.656156 146.855512 \n",
       "\" clip-path=\"url(#p37e9f7c8b9)\" style=\"fill: none; stroke: #000000; stroke-linecap: round\"/>\n",
       "    <path d=\"M 187.644017 141.748805 \n",
       "L 192.656156 146.855512 \n",
       "L 185.563506 147.801199 \n",
       "z\n",
       "\" clip-path=\"url(#p37e9f7c8b9)\" style=\"stroke: #000000; stroke-linecap: round\"/>\n",
       "   </g>\n",
       "   <g id=\"patch_7\">\n",
       "    <path d=\"M 205.294666 103.946078 \n",
       "Q 205.294666 121.448545 205.294666 137.832979 \n",
       "\" clip-path=\"url(#p37e9f7c8b9)\" style=\"fill: none; stroke: #000000; stroke-linecap: round\"/>\n",
       "    <path d=\"M 208.494666 131.432979 \n",
       "L 205.294666 137.832979 \n",
       "L 202.094666 131.432979 \n",
       "z\n",
       "\" clip-path=\"url(#p37e9f7c8b9)\" style=\"stroke: #000000; stroke-linecap: round\"/>\n",
       "   </g>\n",
       "   <g id=\"patch_8\">\n",
       "    <path d=\"M 32.191736 163.45021 \n",
       "Q 32.191736 180.952677 32.191736 197.337111 \n",
       "\" clip-path=\"url(#p37e9f7c8b9)\" style=\"fill: none; stroke: #000000; stroke-linecap: round\"/>\n",
       "    <path d=\"M 35.391736 190.937111 \n",
       "L 32.191736 197.337111 \n",
       "L 28.991736 190.937111 \n",
       "z\n",
       "\" clip-path=\"url(#p37e9f7c8b9)\" style=\"stroke: #000000; stroke-linecap: round\"/>\n",
       "   </g>\n",
       "   <g id=\"patch_9\">\n",
       "    <path d=\"M 43.774016 155.181409 \n",
       "Q 118.743741 180.952252 192.656156 206.359644 \n",
       "\" clip-path=\"url(#p37e9f7c8b9)\" style=\"fill: none; stroke: #000000; stroke-linecap: round\"/>\n",
       "    <path d=\"M 187.644017 201.252937 \n",
       "L 192.656156 206.359644 \n",
       "L 185.563506 207.305331 \n",
       "z\n",
       "\" clip-path=\"url(#p37e9f7c8b9)\" style=\"stroke: #000000; stroke-linecap: round\"/>\n",
       "   </g>\n",
       "   <g id=\"patch_10\">\n",
       "    <path d=\"M 205.294666 163.45021 \n",
       "Q 205.294666 180.952677 205.294666 197.337111 \n",
       "\" clip-path=\"url(#p37e9f7c8b9)\" style=\"fill: none; stroke: #000000; stroke-linecap: round\"/>\n",
       "    <path d=\"M 208.494666 190.937111 \n",
       "L 205.294666 197.337111 \n",
       "L 202.094666 190.937111 \n",
       "z\n",
       "\" clip-path=\"url(#p37e9f7c8b9)\" style=\"stroke: #000000; stroke-linecap: round\"/>\n",
       "   </g>\n",
       "   <g id=\"patch_11\">\n",
       "    <path d=\"M 214.322109 218.979289 \n",
       "Q 237.750702 240.455498 260.355131 261.176225 \n",
       "\" clip-path=\"url(#p37e9f7c8b9)\" style=\"fill: none; stroke: #000000; stroke-linecap: round\"/>\n",
       "    <path d=\"M 257.799663 254.492694 \n",
       "L 260.355131 261.176225 \n",
       "L 253.475025 259.210481 \n",
       "z\n",
       "\" clip-path=\"url(#p37e9f7c8b9)\" style=\"stroke: #000000; stroke-linecap: round\"/>\n",
       "   </g>\n",
       "   <g id=\"PathCollection_1\">\n",
       "    <defs>\n",
       "     <path id=\"m6ab5a44ff8\" d=\"M 0 12.247449 \n",
       "C 3.248061 12.247449 6.363528 10.95698 8.660254 8.660254 \n",
       "C 10.95698 6.363528 12.247449 3.248061 12.247449 0 \n",
       "C 12.247449 -3.248061 10.95698 -6.363528 8.660254 -8.660254 \n",
       "C 6.363528 -10.95698 3.248061 -12.247449 0 -12.247449 \n",
       "C -3.248061 -12.247449 -6.363528 -10.95698 -8.660254 -8.660254 \n",
       "C -10.95698 -6.363528 -12.247449 -3.248061 -12.247449 0 \n",
       "C -12.247449 3.248061 -10.95698 6.363528 -8.660254 8.660254 \n",
       "C -6.363528 10.95698 -3.248061 12.247449 0 12.247449 \n",
       "z\n",
       "\" style=\"stroke: #000000\"/>\n",
       "    </defs>\n",
       "    <g clip-path=\"url(#p37e9f7c8b9)\">\n",
       "     <use xlink:href=\"#m6ab5a44ff8\" x=\"205.294666\" y=\"32.191736\" style=\"fill: #d3d3d3; stroke: #000000\"/>\n",
       "     <use xlink:href=\"#m6ab5a44ff8\" x=\"32.191736\" y=\"91.695868\" style=\"fill: #d3d3d3; stroke: #000000\"/>\n",
       "     <use xlink:href=\"#m6ab5a44ff8\" x=\"205.294666\" y=\"91.695868\" style=\"fill: #d3d3d3; stroke: #000000\"/>\n",
       "     <use xlink:href=\"#m6ab5a44ff8\" x=\"32.191736\" y=\"151.2\" style=\"fill: #d3d3d3; stroke: #000000\"/>\n",
       "     <use xlink:href=\"#m6ab5a44ff8\" x=\"205.294666\" y=\"151.2\" style=\"fill: #d3d3d3; stroke: #000000\"/>\n",
       "     <use xlink:href=\"#m6ab5a44ff8\" x=\"32.191736\" y=\"210.704132\" style=\"fill: #d3d3d3; stroke: #000000\"/>\n",
       "     <use xlink:href=\"#m6ab5a44ff8\" x=\"205.294666\" y=\"210.704132\" style=\"fill: #d3d3d3; stroke: #000000\"/>\n",
       "     <use xlink:href=\"#m6ab5a44ff8\" x=\"270.208264\" y=\"270.208264\" style=\"fill: #d3d3d3; stroke: #000000\"/>\n",
       "    </g>\n",
       "   </g>\n",
       "   <g id=\"text_1\">\n",
       "    <g clip-path=\"url(#p37e9f7c8b9)\">\n",
       "     <!-- D -->\n",
       "     <g transform=\"translate(200.313728 35.502986) scale(0.12 -0.12)\">\n",
       "      <defs>\n",
       "       <path id=\"DejaVuSans-Bold-44\" d=\"M 1791 3756 \n",
       "L 1791 909 \n",
       "L 2222 909 \n",
       "Q 2959 909 3348 1275 \n",
       "Q 3738 1641 3738 2338 \n",
       "Q 3738 3031 3350 3393 \n",
       "Q 2963 3756 2222 3756 \n",
       "L 1791 3756 \n",
       "z\n",
       "M 588 4666 \n",
       "L 1856 4666 \n",
       "Q 2919 4666 3439 4514 \n",
       "Q 3959 4363 4331 4000 \n",
       "Q 4659 3684 4818 3271 \n",
       "Q 4978 2859 4978 2338 \n",
       "Q 4978 1809 4818 1395 \n",
       "Q 4659 981 4331 666 \n",
       "Q 3956 303 3431 151 \n",
       "Q 2906 0 1856 0 \n",
       "L 588 0 \n",
       "L 588 4666 \n",
       "z\n",
       "\" transform=\"scale(0.015625)\"/>\n",
       "      </defs>\n",
       "      <use xlink:href=\"#DejaVuSans-Bold-44\"/>\n",
       "     </g>\n",
       "    </g>\n",
       "   </g>\n",
       "   <g id=\"text_2\">\n",
       "    <g clip-path=\"url(#p37e9f7c8b9)\">\n",
       "     <!-- E -->\n",
       "     <g transform=\"translate(28.092986 95.007118) scale(0.12 -0.12)\">\n",
       "      <defs>\n",
       "       <path id=\"DejaVuSans-Bold-45\" d=\"M 588 4666 \n",
       "L 3834 4666 \n",
       "L 3834 3756 \n",
       "L 1791 3756 \n",
       "L 1791 2888 \n",
       "L 3713 2888 \n",
       "L 3713 1978 \n",
       "L 1791 1978 \n",
       "L 1791 909 \n",
       "L 3903 909 \n",
       "L 3903 0 \n",
       "L 588 0 \n",
       "L 588 4666 \n",
       "z\n",
       "\" transform=\"scale(0.015625)\"/>\n",
       "      </defs>\n",
       "      <use xlink:href=\"#DejaVuSans-Bold-45\"/>\n",
       "     </g>\n",
       "    </g>\n",
       "   </g>\n",
       "   <g id=\"text_3\">\n",
       "    <g clip-path=\"url(#p37e9f7c8b9)\">\n",
       "     <!-- G -->\n",
       "     <g transform=\"translate(200.369978 95.007118) scale(0.12 -0.12)\">\n",
       "      <defs>\n",
       "       <path id=\"DejaVuSans-Bold-47\" d=\"M 4781 347 \n",
       "Q 4331 128 3847 18 \n",
       "Q 3363 -91 2847 -91 \n",
       "Q 1681 -91 1000 561 \n",
       "Q 319 1213 319 2328 \n",
       "Q 319 3456 1012 4103 \n",
       "Q 1706 4750 2913 4750 \n",
       "Q 3378 4750 3804 4662 \n",
       "Q 4231 4575 4609 4403 \n",
       "L 4609 3438 \n",
       "Q 4219 3659 3833 3768 \n",
       "Q 3447 3878 3059 3878 \n",
       "Q 2341 3878 1952 3476 \n",
       "Q 1563 3075 1563 2328 \n",
       "Q 1563 1588 1938 1184 \n",
       "Q 2313 781 3003 781 \n",
       "Q 3191 781 3352 804 \n",
       "Q 3513 828 3641 878 \n",
       "L 3641 1784 \n",
       "L 2906 1784 \n",
       "L 2906 2591 \n",
       "L 4781 2591 \n",
       "L 4781 347 \n",
       "z\n",
       "\" transform=\"scale(0.015625)\"/>\n",
       "      </defs>\n",
       "      <use xlink:href=\"#DejaVuSans-Bold-47\"/>\n",
       "     </g>\n",
       "    </g>\n",
       "   </g>\n",
       "   <g id=\"text_4\">\n",
       "    <g clip-path=\"url(#p37e9f7c8b9)\">\n",
       "     <!-- H -->\n",
       "     <g transform=\"translate(27.170486 154.51125) scale(0.12 -0.12)\">\n",
       "      <defs>\n",
       "       <path id=\"DejaVuSans-Bold-48\" d=\"M 588 4666 \n",
       "L 1791 4666 \n",
       "L 1791 2888 \n",
       "L 3566 2888 \n",
       "L 3566 4666 \n",
       "L 4769 4666 \n",
       "L 4769 0 \n",
       "L 3566 0 \n",
       "L 3566 1978 \n",
       "L 1791 1978 \n",
       "L 1791 0 \n",
       "L 588 0 \n",
       "L 588 4666 \n",
       "z\n",
       "\" transform=\"scale(0.015625)\"/>\n",
       "      </defs>\n",
       "      <use xlink:href=\"#DejaVuSans-Bold-48\"/>\n",
       "     </g>\n",
       "    </g>\n",
       "   </g>\n",
       "   <g id=\"text_5\">\n",
       "    <g clip-path=\"url(#p37e9f7c8b9)\">\n",
       "     <!-- C -->\n",
       "     <g transform=\"translate(200.891228 154.51125) scale(0.12 -0.12)\">\n",
       "      <defs>\n",
       "       <path id=\"DejaVuSans-Bold-43\" d=\"M 4288 256 \n",
       "Q 3956 84 3597 -3 \n",
       "Q 3238 -91 2847 -91 \n",
       "Q 1681 -91 1000 561 \n",
       "Q 319 1213 319 2328 \n",
       "Q 319 3447 1000 4098 \n",
       "Q 1681 4750 2847 4750 \n",
       "Q 3238 4750 3597 4662 \n",
       "Q 3956 4575 4288 4403 \n",
       "L 4288 3438 \n",
       "Q 3953 3666 3628 3772 \n",
       "Q 3303 3878 2944 3878 \n",
       "Q 2300 3878 1931 3465 \n",
       "Q 1563 3053 1563 2328 \n",
       "Q 1563 1606 1931 1193 \n",
       "Q 2300 781 2944 781 \n",
       "Q 3303 781 3628 887 \n",
       "Q 3953 994 4288 1222 \n",
       "L 4288 256 \n",
       "z\n",
       "\" transform=\"scale(0.015625)\"/>\n",
       "      </defs>\n",
       "      <use xlink:href=\"#DejaVuSans-Bold-43\"/>\n",
       "     </g>\n",
       "    </g>\n",
       "   </g>\n",
       "   <g id=\"text_6\">\n",
       "    <g clip-path=\"url(#p37e9f7c8b9)\">\n",
       "     <!-- F -->\n",
       "     <g transform=\"translate(28.092986 214.015382) scale(0.12 -0.12)\">\n",
       "      <defs>\n",
       "       <path id=\"DejaVuSans-Bold-46\" d=\"M 588 4666 \n",
       "L 3834 4666 \n",
       "L 3834 3756 \n",
       "L 1791 3756 \n",
       "L 1791 2888 \n",
       "L 3713 2888 \n",
       "L 3713 1978 \n",
       "L 1791 1978 \n",
       "L 1791 0 \n",
       "L 588 0 \n",
       "L 588 4666 \n",
       "z\n",
       "\" transform=\"scale(0.015625)\"/>\n",
       "      </defs>\n",
       "      <use xlink:href=\"#DejaVuSans-Bold-46\"/>\n",
       "     </g>\n",
       "    </g>\n",
       "   </g>\n",
       "   <g id=\"text_7\">\n",
       "    <g clip-path=\"url(#p37e9f7c8b9)\">\n",
       "     <!-- A -->\n",
       "     <g transform=\"translate(200.651228 214.015382) scale(0.12 -0.12)\">\n",
       "      <defs>\n",
       "       <path id=\"DejaVuSans-Bold-41\" d=\"M 3419 850 \n",
       "L 1538 850 \n",
       "L 1241 0 \n",
       "L 31 0 \n",
       "L 1759 4666 \n",
       "L 3194 4666 \n",
       "L 4922 0 \n",
       "L 3713 0 \n",
       "L 3419 850 \n",
       "z\n",
       "M 1838 1716 \n",
       "L 3116 1716 \n",
       "L 2478 3572 \n",
       "L 1838 1716 \n",
       "z\n",
       "\" transform=\"scale(0.015625)\"/>\n",
       "      </defs>\n",
       "      <use xlink:href=\"#DejaVuSans-Bold-41\"/>\n",
       "     </g>\n",
       "    </g>\n",
       "   </g>\n",
       "   <g id=\"text_8\">\n",
       "    <g clip-path=\"url(#p37e9f7c8b9)\">\n",
       "     <!-- B -->\n",
       "     <g transform=\"translate(265.635139 273.519514) scale(0.12 -0.12)\">\n",
       "      <defs>\n",
       "       <path id=\"DejaVuSans-Bold-42\" d=\"M 2456 2859 \n",
       "Q 2741 2859 2887 2984 \n",
       "Q 3034 3109 3034 3353 \n",
       "Q 3034 3594 2887 3720 \n",
       "Q 2741 3847 2456 3847 \n",
       "L 1791 3847 \n",
       "L 1791 2859 \n",
       "L 2456 2859 \n",
       "z\n",
       "M 2497 819 \n",
       "Q 2859 819 3042 972 \n",
       "Q 3225 1125 3225 1434 \n",
       "Q 3225 1738 3044 1889 \n",
       "Q 2863 2041 2497 2041 \n",
       "L 1791 2041 \n",
       "L 1791 819 \n",
       "L 2497 819 \n",
       "z\n",
       "M 3616 2497 \n",
       "Q 4003 2384 4215 2081 \n",
       "Q 4428 1778 4428 1338 \n",
       "Q 4428 663 3972 331 \n",
       "Q 3516 0 2584 0 \n",
       "L 588 0 \n",
       "L 588 4666 \n",
       "L 2394 4666 \n",
       "Q 3366 4666 3802 4372 \n",
       "Q 4238 4078 4238 3431 \n",
       "Q 4238 3091 4078 2852 \n",
       "Q 3919 2613 3616 2497 \n",
       "z\n",
       "\" transform=\"scale(0.015625)\"/>\n",
       "      </defs>\n",
       "      <use xlink:href=\"#DejaVuSans-Bold-42\"/>\n",
       "     </g>\n",
       "    </g>\n",
       "   </g>\n",
       "  </g>\n",
       " </g>\n",
       " <defs>\n",
       "  <clipPath id=\"p37e9f7c8b9\">\n",
       "   <rect x=\"7.2\" y=\"7.2\" width=\"288\" height=\"288\"/>\n",
       "  </clipPath>\n",
       " </defs>\n",
       "</svg>\n"
      ],
      "text/plain": [
       "<Figure size 400x400 with 1 Axes>"
      ]
     },
     "metadata": {},
     "output_type": "display_data"
    }
   ],
   "source": [
    "visualize_graph(graph, figsize=(4, 4), show_plot=True)"
   ]
  },
  {
   "cell_type": "markdown",
   "id": "f01db36e",
   "metadata": {},
   "source": [
    "To sample from a graph, we use the function `CausalDAG.sample`:"
   ]
  },
  {
   "cell_type": "code",
   "execution_count": 7,
   "id": "cba861e9",
   "metadata": {},
   "outputs": [
    {
     "data": {
      "text/plain": [
       "{'D': array([0.22232616], dtype=float32),\n",
       " 'E': array([1.4062064], dtype=float32),\n",
       " 'G': array([-2.7198381], dtype=float32),\n",
       " 'H': array([0.7012233], dtype=float32),\n",
       " 'C': array([1.4001391], dtype=float32),\n",
       " 'F': array([2.3154678], dtype=float32),\n",
       " 'A': array([-0.8946453], dtype=float32),\n",
       " 'B': array([-3.4003797], dtype=float32)}"
      ]
     },
     "execution_count": 7,
     "metadata": {},
     "output_type": "execute_result"
    }
   ],
   "source": [
    "graph.sample()"
   ]
  },
  {
   "cell_type": "markdown",
   "id": "bf156917",
   "metadata": {},
   "source": [
    "Sampling with interventions is supported by passing a dictionary with the intended interventions. The interventions can be imperfect, i.e. a new distribution, or perfect, i.e. constant values. We demonstrate here a perfect intervention on the variable C:"
   ]
  },
  {
   "cell_type": "code",
   "execution_count": 8,
   "id": "5c2ef634",
   "metadata": {},
   "outputs": [
    {
     "data": {
      "text/plain": [
       "{'D': array([50]),\n",
       " 'E': array([25.040556], dtype=float32),\n",
       " 'G': array([-21.310596], dtype=float32),\n",
       " 'H': array([-0.19241673], dtype=float32),\n",
       " 'C': array([-15.1306925], dtype=float32),\n",
       " 'F': array([1.7672868], dtype=float32),\n",
       " 'A': array([2.5652668], dtype=float32),\n",
       " 'B': array([-5.810983], dtype=float32)}"
      ]
     },
     "execution_count": 8,
     "metadata": {},
     "output_type": "execute_result"
    }
   ],
   "source": [
    "graph.sample(interventions={'D': np.array([50])})"
   ]
  },
  {
   "cell_type": "markdown",
   "id": "dd6bee85",
   "metadata": {},
   "source": [
    "Graphs can be saved and loaded with the function `save_to_file` and `CausalDAG.load_from_file`. To save the graph as a set of observational and interventional dataset, you can use the function `export_graph` from `graph_export.py`. We used this functionality to export the data to apply other causal discovery methods on. Graphs in the `.bif` format, as from the BnLearn repository, can be loaded via the function `load_graph_file` in `graph_real_world.py`."
   ]
  },
  {
   "cell_type": "code",
   "execution_count": 9,
   "id": "fbda973e",
   "metadata": {},
   "outputs": [
    {
     "data": {
      "text/plain": [
       "<causal_graphs.graph_definition.CausalDAG at 0x18e741dcd90>"
      ]
     },
     "execution_count": 9,
     "metadata": {},
     "output_type": "execute_result"
    }
   ],
   "source": [
    "graph"
   ]
  },
  {
   "cell_type": "markdown",
   "id": "74c37a5c",
   "metadata": {},
   "source": [
    "## Causal Discovery with ENCO\n",
    "\n",
    "The graph objects explained above are used to implement the structure learning with ENCO in the folder `causal_discovery`. To run ENCO on such a graph, we simply need to create an `ENCO` object, and run the structure learning via the `discover_graph` function:"
   ]
  },
  {
   "cell_type": "code",
   "execution_count": 10,
   "id": "c5aa93e7",
   "metadata": {},
   "outputs": [],
   "source": [
    "from causal_discovery.enco import ENCO"
   ]
  },
  {
   "cell_type": "code",
   "execution_count": 11,
   "id": "b1d01265",
   "metadata": {},
   "outputs": [
    {
     "name": "stdout",
     "output_type": "stream",
     "text": [
      "Creating dataset...\n",
      "Dataset created in 0.01s\n",
      "Sampling interventional data...\n",
      "Done in 0.00s\n",
      "Distribution fitting model:\n",
      "DeepSigmoidalFlowModel(\n",
      "  (condition_mlp): MultivarMLP(\n",
      "    (layers): ModuleList(\n",
      "      (0): InputMask()\n",
      "      (1): MultivarLinear(input_dims=16, output_dims=256, extra_dims=[8])\n",
      "      (2): LeakyReLU(negative_slope=0.01, inplace=True)\n",
      "      (3): MultivarLinear(input_dims=256, output_dims=256, extra_dims=[8])\n",
      "      (4): LeakyReLU(negative_slope=0.01, inplace=True)\n",
      "      (5): MultivarLinear(input_dims=256, output_dims=256, extra_dims=[8])\n",
      "      (6): LeakyReLU(negative_slope=0.01, inplace=True)\n",
      "      (7): MultivarLinear(input_dims=256, output_dims=240, extra_dims=[8])\n",
      "    )\n",
      "  )\n",
      "  (flow): SigmoidFlow()\n",
      ")\n",
      "Dataset size:\n",
      "- Observational: 1000\n",
      "- Interventional: 1000\n"
     ]
    }
   ],
   "source": [
    "enco_module = ENCO(\n",
    "    graph=graph, \n",
    "    use_flow_model=True,\n",
    "    sample_size_inters=1000,\n",
    "    sample_size_obs=1000,\n",
    "    hidden_dims=[256, 256, 256],\n",
    "    lambda_sparse=0.001\n",
    ")\n",
    "if torch.cuda.is_available():\n",
    "    enco_module.to(torch.device('cuda:0'))"
   ]
  },
  {
   "cell_type": "code",
   "execution_count": 12,
   "id": "d1cb9d9f",
   "metadata": {},
   "outputs": [
    {
     "data": {
      "application/vnd.jupyter.widget-view+json": {
       "model_id": "f3e01f3f010b481098c8bf9dd7c79436",
       "version_major": 2,
       "version_minor": 0
      },
      "text/plain": [
       "Epoch loop:   0%|          | 0/10 [00:00<?, ?it/s]"
      ]
     },
     "metadata": {},
     "output_type": "display_data"
    },
    {
     "data": {
      "application/vnd.jupyter.widget-view+json": {
       "model_id": "ebc6882835ad424fb4c25648d95889cc",
       "version_major": 2,
       "version_minor": 0
      },
      "text/plain": [
       "Distribution fitting loop:   0%|          | 0/1000 [00:00<?, ?it/s]"
      ]
     },
     "metadata": {},
     "output_type": "display_data"
    },
    {
     "data": {
      "application/vnd.jupyter.widget-view+json": {
       "model_id": "35796688fde94dbc9c7572cd4bcfddc3",
       "version_major": 2,
       "version_minor": 0
      },
      "text/plain": [
       "Graph fitting loop:   0%|          | 0/100 [00:00<?, ?it/s]"
      ]
     },
     "metadata": {},
     "output_type": "display_data"
    },
    {
     "name": "stdout",
     "output_type": "stream",
     "text": [
      "--- [EPOCH 1] ---\n",
      "Graph - SHD: 19, Recall: 10.00%, Precision: 7.69% (TP=1,FP=12,FN=9,TN=34)\n",
      "      -> FP: ancestors=4, descendants=5, confounders=3, independents=0\n",
      "Theta - Orientation accuracy: 50.00% (TP=5,FN=5)\n"
     ]
    },
    {
     "data": {
      "application/vnd.jupyter.widget-view+json": {
       "model_id": "8d5fb4dbc19841f0898edabfbdb4d879",
       "version_major": 2,
       "version_minor": 0
      },
      "text/plain": [
       "Distribution fitting loop:   0%|          | 0/1000 [00:00<?, ?it/s]"
      ]
     },
     "metadata": {},
     "output_type": "display_data"
    },
    {
     "data": {
      "application/vnd.jupyter.widget-view+json": {
       "model_id": "0534f64dae9143c6b7f647a0cb9bb161",
       "version_major": 2,
       "version_minor": 0
      },
      "text/plain": [
       "Graph fitting loop:   0%|          | 0/100 [00:00<?, ?it/s]"
      ]
     },
     "metadata": {},
     "output_type": "display_data"
    },
    {
     "ename": "KeyboardInterrupt",
     "evalue": "",
     "output_type": "error",
     "traceback": [
      "\u001b[1;31m---------------------------------------------------------------------------\u001b[0m",
      "\u001b[1;31mKeyboardInterrupt\u001b[0m                         Traceback (most recent call last)",
      "Cell \u001b[1;32mIn[12], line 1\u001b[0m\n\u001b[1;32m----> 1\u001b[0m predicted_adj_matrix \u001b[38;5;241m=\u001b[39m \u001b[43menco_module\u001b[49m\u001b[38;5;241;43m.\u001b[39;49m\u001b[43mdiscover_graph\u001b[49m\u001b[43m(\u001b[49m\u001b[43mnum_epochs\u001b[49m\u001b[38;5;241;43m=\u001b[39;49m\u001b[38;5;241;43m10\u001b[39;49m\u001b[43m)\u001b[49m\n",
      "File \u001b[1;32me:\\PycharmProjects\\ENCO\\causal_discovery\\enco.py:196\u001b[0m, in \u001b[0;36mENCO.discover_graph\u001b[1;34m(self, num_epochs, stop_early)\u001b[0m\n\u001b[0;32m    194\u001b[0m \u001b[38;5;28mself\u001b[39m\u001b[38;5;241m.\u001b[39mdist_fit_time \u001b[38;5;241m=\u001b[39m time\u001b[38;5;241m.\u001b[39mtime() \u001b[38;5;241m-\u001b[39m start_time\n\u001b[0;32m    195\u001b[0m \u001b[38;5;66;03m# Update graph parameters\u001b[39;00m\n\u001b[1;32m--> 196\u001b[0m \u001b[38;5;28;43mself\u001b[39;49m\u001b[38;5;241;43m.\u001b[39;49m\u001b[43mgraph_fitting_step\u001b[49m\u001b[43m(\u001b[49m\u001b[43m)\u001b[49m\n\u001b[0;32m    197\u001b[0m \u001b[38;5;28mself\u001b[39m\u001b[38;5;241m.\u001b[39miter_time \u001b[38;5;241m=\u001b[39m time\u001b[38;5;241m.\u001b[39mtime() \u001b[38;5;241m-\u001b[39m start_time\n\u001b[0;32m    198\u001b[0m \u001b[38;5;66;03m# Print stats\u001b[39;00m\n",
      "File \u001b[1;32me:\\PycharmProjects\\ENCO\\causal_discovery\\enco.py:234\u001b[0m, in \u001b[0;36mENCO.graph_fitting_step\u001b[1;34m(self)\u001b[0m\n\u001b[0;32m    232\u001b[0m \u001b[38;5;28mself\u001b[39m\u001b[38;5;241m.\u001b[39mgamma_optimizer\u001b[38;5;241m.\u001b[39mzero_grad()\n\u001b[0;32m    233\u001b[0m \u001b[38;5;28mself\u001b[39m\u001b[38;5;241m.\u001b[39mtheta_optimizer\u001b[38;5;241m.\u001b[39mzero_grad()\n\u001b[1;32m--> 234\u001b[0m theta_mask, var_idx \u001b[38;5;241m=\u001b[39m \u001b[38;5;28;43mself\u001b[39;49m\u001b[38;5;241;43m.\u001b[39;49m\u001b[43mgraph_fitting_module\u001b[49m\u001b[38;5;241;43m.\u001b[39;49m\u001b[43mperform_update_step\u001b[49m\u001b[43m(\u001b[49m\u001b[38;5;28;43mself\u001b[39;49m\u001b[38;5;241;43m.\u001b[39;49m\u001b[43mgamma\u001b[49m\u001b[43m,\u001b[49m\n\u001b[0;32m    235\u001b[0m \u001b[43m                                                                    \u001b[49m\u001b[38;5;28;43mself\u001b[39;49m\u001b[38;5;241;43m.\u001b[39;49m\u001b[43mtheta\u001b[49m\u001b[43m,\u001b[49m\n\u001b[0;32m    236\u001b[0m \u001b[43m                                                                    \u001b[49m\u001b[43monly_theta\u001b[49m\u001b[38;5;241;43m=\u001b[39;49m\u001b[43monly_theta\u001b[49m\u001b[43m)\u001b[49m\n\u001b[0;32m    237\u001b[0m \u001b[38;5;28;01mif\u001b[39;00m \u001b[38;5;129;01mnot\u001b[39;00m only_theta:  \u001b[38;5;66;03m# In the gamma freezing stages, we do not update gamma\u001b[39;00m\n\u001b[0;32m    238\u001b[0m     \u001b[38;5;28;01mif\u001b[39;00m \u001b[38;5;28misinstance\u001b[39m(\u001b[38;5;28mself\u001b[39m\u001b[38;5;241m.\u001b[39mgamma_optimizer, AdamGamma):\n",
      "File \u001b[1;32me:\\PycharmProjects\\ENCO\\causal_discovery\\graph_fitting.py:106\u001b[0m, in \u001b[0;36mGraphFitting.perform_update_step\u001b[1;34m(self, gamma, theta, var_idx, only_theta)\u001b[0m\n\u001b[0;32m    103\u001b[0m adj_matrices, log_likelihoods, var_idx \u001b[38;5;241m=\u001b[39m MC_samp\n\u001b[0;32m    105\u001b[0m \u001b[38;5;66;03m# Determine gradients for gamma and theta\u001b[39;00m\n\u001b[1;32m--> 106\u001b[0m gamma_grads, theta_grads, theta_mask \u001b[38;5;241m=\u001b[39m \u001b[38;5;28;43mself\u001b[39;49m\u001b[38;5;241;43m.\u001b[39;49m\u001b[43mgradient_estimator\u001b[49m\u001b[43m(\u001b[49m\n\u001b[0;32m    107\u001b[0m \u001b[43m    \u001b[49m\u001b[43madj_matrices\u001b[49m\u001b[43m,\u001b[49m\u001b[43m \u001b[49m\u001b[43mlog_likelihoods\u001b[49m\u001b[43m,\u001b[49m\u001b[43m \u001b[49m\u001b[43mgamma\u001b[49m\u001b[43m,\u001b[49m\u001b[43m \u001b[49m\u001b[43mtheta\u001b[49m\u001b[43m,\u001b[49m\u001b[43m \u001b[49m\u001b[43mvar_idx\u001b[49m\u001b[43m)\u001b[49m\n\u001b[0;32m    108\u001b[0m gamma\u001b[38;5;241m.\u001b[39mgrad \u001b[38;5;241m=\u001b[39m gamma_grads\n\u001b[0;32m    109\u001b[0m theta\u001b[38;5;241m.\u001b[39mgrad \u001b[38;5;241m=\u001b[39m theta_grads\n",
      "File \u001b[1;32me:\\PycharmProjects\\ENCO\\venv\\lib\\site-packages\\torch\\utils\\_contextlib.py:115\u001b[0m, in \u001b[0;36mcontext_decorator.<locals>.decorate_context\u001b[1;34m(*args, **kwargs)\u001b[0m\n\u001b[0;32m    112\u001b[0m \u001b[38;5;129m@functools\u001b[39m\u001b[38;5;241m.\u001b[39mwraps(func)\n\u001b[0;32m    113\u001b[0m \u001b[38;5;28;01mdef\u001b[39;00m \u001b[38;5;21mdecorate_context\u001b[39m(\u001b[38;5;241m*\u001b[39margs, \u001b[38;5;241m*\u001b[39m\u001b[38;5;241m*\u001b[39mkwargs):\n\u001b[0;32m    114\u001b[0m     \u001b[38;5;28;01mwith\u001b[39;00m ctx_factory():\n\u001b[1;32m--> 115\u001b[0m         \u001b[38;5;28;01mreturn\u001b[39;00m func(\u001b[38;5;241m*\u001b[39margs, \u001b[38;5;241m*\u001b[39m\u001b[38;5;241m*\u001b[39mkwargs)\n",
      "File \u001b[1;32me:\\PycharmProjects\\ENCO\\causal_discovery\\graph_fitting.py:246\u001b[0m, in \u001b[0;36mGraphFitting.gradient_estimator\u001b[1;34m(self, adj_matrices, log_likelihoods, gamma, theta, var_idx)\u001b[0m\n\u001b[0;32m    243\u001b[0m gamma_grads[torch\u001b[38;5;241m.\u001b[39marange(gamma_grads\u001b[38;5;241m.\u001b[39mshape[\u001b[38;5;241m0\u001b[39m]), torch\u001b[38;5;241m.\u001b[39marange(gamma_grads\u001b[38;5;241m.\u001b[39mshape[\u001b[38;5;241m1\u001b[39m])] \u001b[38;5;241m=\u001b[39m \u001b[38;5;241m0.\u001b[39m\n\u001b[0;32m    245\u001b[0m \u001b[38;5;66;03m# Masking all theta's except the ones with a intervened variable\u001b[39;00m\n\u001b[1;32m--> 246\u001b[0m theta_zero_mask \u001b[38;5;241m=\u001b[39m \u001b[38;5;28;43mself\u001b[39;49m\u001b[38;5;241;43m.\u001b[39;49m\u001b[43mtheta_grad_mask\u001b[49m\u001b[38;5;241;43m.\u001b[39;49m\u001b[43mclone\u001b[49m\u001b[43m(\u001b[49m\u001b[43m)\u001b[49m\u001b[38;5;241m.\u001b[39mto(theta_grads\u001b[38;5;241m.\u001b[39mdevice)\n\u001b[0;32m    247\u001b[0m theta_zero_mask[var_idx] \u001b[38;5;241m=\u001b[39m \u001b[38;5;241m1.\u001b[39m\n\u001b[0;32m    248\u001b[0m theta_grads \u001b[38;5;241m*\u001b[39m\u001b[38;5;241m=\u001b[39m theta_zero_mask\n",
      "\u001b[1;31mKeyboardInterrupt\u001b[0m: "
     ]
    },
    {
     "ename": "",
     "evalue": "",
     "output_type": "error",
     "traceback": [
      "\u001b[1;31mThe Kernel crashed while executing code in the current cell or a previous cell. \n",
      "\u001b[1;31mPlease review the code in the cell(s) to identify a possible cause of the failure. \n",
      "\u001b[1;31mClick <a href='https://aka.ms/vscodeJupyterKernelCrash'>here</a> for more info. \n",
      "\u001b[1;31mView Jupyter <a href='command:jupyter.viewOutput'>log</a> for further details."
     ]
    }
   ],
   "source": [
    "predicted_adj_matrix = enco_module.discover_graph(num_epochs=10)"
   ]
  },
  {
   "cell_type": "markdown",
   "id": "1b599432",
   "metadata": {},
   "source": [
    "After every epoch, the metrics of comparing the current prediction to the ground truth graph are printed out. In the case of the small graph we created above, ENCO finds the graph quite quickly. The return value is the predicted adjacency matrix, and can be passed to a new graph object if you want to visualize the prediction. Hyperparameters for the structure learning process can be passed to the ENCO object in the init-function. \n",
    "\n",
    "This completes the quick guide through the code. To run experiments on a larger scale, we recommend to use the python files provided in the `experiments` folder. Further, the commands to reproduce the experiments in the paper are provided in `experiments/run_scripts/`."
   ]
  },
  {
   "cell_type": "code",
   "execution_count": null,
   "id": "d6f36f40",
   "metadata": {},
   "outputs": [],
   "source": [
    "predicted_adj_matrix"
   ]
  },
  {
   "cell_type": "code",
   "execution_count": null,
   "id": "65cfbae0",
   "metadata": {},
   "outputs": [],
   "source": [
    "enco_module.true_adj_matrix"
   ]
  },
  {
   "cell_type": "code",
   "execution_count": null,
   "id": "97436133",
   "metadata": {},
   "outputs": [],
   "source": [
    "d = graph.sample(batch_size=100)"
   ]
  },
  {
   "cell_type": "code",
   "execution_count": null,
   "id": "f59f6831",
   "metadata": {},
   "outputs": [],
   "source": [
    "import pandas as pd\n",
    "import seaborn as sns\n",
    "\n",
    "df = pd.DataFrame(d)\n",
    "\n",
    "sns.pairplot(df, diag_kind='kde', kind='scatter')"
   ]
  },
  {
   "cell_type": "code",
   "execution_count": null,
   "id": "63d1fb02",
   "metadata": {},
   "outputs": [],
   "source": []
  }
 ],
 "metadata": {
  "kernelspec": {
   "display_name": "Python 3 (ipykernel)",
   "language": "python",
   "name": "python3"
  },
  "language_info": {
   "codemirror_mode": {
    "name": "ipython",
    "version": 3
   },
   "file_extension": ".py",
   "mimetype": "text/x-python",
   "name": "python",
   "nbconvert_exporter": "python",
   "pygments_lexer": "ipython3",
   "version": "3.10.4"
  }
 },
 "nbformat": 4,
 "nbformat_minor": 5
}
